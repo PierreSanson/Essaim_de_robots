{
 "metadata": {
  "language_info": {
   "codemirror_mode": {
    "name": "ipython",
    "version": 3
   },
   "file_extension": ".py",
   "mimetype": "text/x-python",
   "name": "python",
   "nbconvert_exporter": "python",
   "pygments_lexer": "ipython3",
   "version": "3.8.3"
  },
  "orig_nbformat": 2,
  "kernelspec": {
   "name": "python383jvsc74a57bd019fd8c6f965378819bce3b8209d0fa1911f2f2e759e4f41d52a5483abc5a424b",
   "display_name": "Python 3.8.3 64-bit ('base': conda)"
  }
 },
 "nbformat": 4,
 "nbformat_minor": 2,
 "cells": [
  {
   "source": [
    "# Statistical Analysis"
   ],
   "cell_type": "markdown",
   "metadata": {}
  },
  {
   "cell_type": "code",
   "execution_count": 2,
   "metadata": {},
   "outputs": [],
   "source": [
    "import pandas as pd"
   ]
  },
  {
   "cell_type": "code",
   "execution_count": 3,
   "metadata": {},
   "outputs": [],
   "source": [
    "df = pd.read_csv(\"./noGUI/results/combined_results_2021-05-16T17-14-50.csv\")\n"
   ]
  },
  {
   "cell_type": "code",
   "execution_count": 4,
   "metadata": {},
   "outputs": [
    {
     "output_type": "execute_result",
     "data": {
      "text/plain": [
       "   sim_number   start_pos  start_angle  nbRefPointBots  nbMeasurerBots  \\\n",
       "0           1  (375, 716)          0.0              10               1   \n",
       "1           1  (525, 366)          0.0              10               1   \n",
       "2           1  (675, 166)          0.0              10               1   \n",
       "\n",
       "  mb_exp_method                                     rpb_exp_method  \\\n",
       "0  findTargetV3  findClosestClusterToOrigin and findClosestClus...   \n",
       "1  findTargetV3  findClosestClusterToOrigin and findClosestClus...   \n",
       "2  findTargetV3  findClosestClusterToOrigin and findClosestClus...   \n",
       "\n",
       "        rpb_sel_method first_loop  measuredTiles  surface  pathLength  \\\n",
       "0  findLeastUsefulBots        RPB            233      243         365   \n",
       "1  findLeastUsefulBots        RPB            243      243         289   \n",
       "2  findLeastUsefulBots        RPB            243      243         283   \n",
       "\n",
       "   sim_duration  totalPathLengthRPB  nbMovesRPB  averageMoveLengthRPB  \\\n",
       "0     72.125082         6237.211873          29            215.076271   \n",
       "1     30.966547         4878.232016          20            243.911601   \n",
       "2     31.512547         5840.405647          20            292.020282   \n",
       "\n",
       "   maxLengthMoveRPB                     roomName  \n",
       "0       1058.706619  ../../../UWBSLAM3-10.pickle  \n",
       "1        836.000000  ../../../UWBSLAM3-10.pickle  \n",
       "2        686.000000  ../../../UWBSLAM3-10.pickle  "
      ],
      "text/html": "<div>\n<style scoped>\n    .dataframe tbody tr th:only-of-type {\n        vertical-align: middle;\n    }\n\n    .dataframe tbody tr th {\n        vertical-align: top;\n    }\n\n    .dataframe thead th {\n        text-align: right;\n    }\n</style>\n<table border=\"1\" class=\"dataframe\">\n  <thead>\n    <tr style=\"text-align: right;\">\n      <th></th>\n      <th>sim_number</th>\n      <th>start_pos</th>\n      <th>start_angle</th>\n      <th>nbRefPointBots</th>\n      <th>nbMeasurerBots</th>\n      <th>mb_exp_method</th>\n      <th>rpb_exp_method</th>\n      <th>rpb_sel_method</th>\n      <th>first_loop</th>\n      <th>measuredTiles</th>\n      <th>surface</th>\n      <th>pathLength</th>\n      <th>sim_duration</th>\n      <th>totalPathLengthRPB</th>\n      <th>nbMovesRPB</th>\n      <th>averageMoveLengthRPB</th>\n      <th>maxLengthMoveRPB</th>\n      <th>roomName</th>\n    </tr>\n  </thead>\n  <tbody>\n    <tr>\n      <th>0</th>\n      <td>1</td>\n      <td>(375, 716)</td>\n      <td>0.0</td>\n      <td>10</td>\n      <td>1</td>\n      <td>findTargetV3</td>\n      <td>findClosestClusterToOrigin and findClosestClus...</td>\n      <td>findLeastUsefulBots</td>\n      <td>RPB</td>\n      <td>233</td>\n      <td>243</td>\n      <td>365</td>\n      <td>72.125082</td>\n      <td>6237.211873</td>\n      <td>29</td>\n      <td>215.076271</td>\n      <td>1058.706619</td>\n      <td>../../../UWBSLAM3-10.pickle</td>\n    </tr>\n    <tr>\n      <th>1</th>\n      <td>1</td>\n      <td>(525, 366)</td>\n      <td>0.0</td>\n      <td>10</td>\n      <td>1</td>\n      <td>findTargetV3</td>\n      <td>findClosestClusterToOrigin and findClosestClus...</td>\n      <td>findLeastUsefulBots</td>\n      <td>RPB</td>\n      <td>243</td>\n      <td>243</td>\n      <td>289</td>\n      <td>30.966547</td>\n      <td>4878.232016</td>\n      <td>20</td>\n      <td>243.911601</td>\n      <td>836.000000</td>\n      <td>../../../UWBSLAM3-10.pickle</td>\n    </tr>\n    <tr>\n      <th>2</th>\n      <td>1</td>\n      <td>(675, 166)</td>\n      <td>0.0</td>\n      <td>10</td>\n      <td>1</td>\n      <td>findTargetV3</td>\n      <td>findClosestClusterToOrigin and findClosestClus...</td>\n      <td>findLeastUsefulBots</td>\n      <td>RPB</td>\n      <td>243</td>\n      <td>243</td>\n      <td>283</td>\n      <td>31.512547</td>\n      <td>5840.405647</td>\n      <td>20</td>\n      <td>292.020282</td>\n      <td>686.000000</td>\n      <td>../../../UWBSLAM3-10.pickle</td>\n    </tr>\n  </tbody>\n</table>\n</div>"
     },
     "metadata": {},
     "execution_count": 4
    }
   ],
   "source": [
    "df"
   ]
  },
  {
   "cell_type": "code",
   "execution_count": 5,
   "metadata": {},
   "outputs": [
    {
     "output_type": "stream",
     "name": "stdout",
     "text": [
      "<class 'pandas.core.frame.DataFrame'>\nRangeIndex: 3 entries, 0 to 2\nData columns (total 18 columns):\n #   Column                Non-Null Count  Dtype  \n---  ------                --------------  -----  \n 0   sim_number            3 non-null      int64  \n 1   start_pos             3 non-null      object \n 2   start_angle           3 non-null      float64\n 3   nbRefPointBots        3 non-null      int64  \n 4   nbMeasurerBots        3 non-null      int64  \n 5   mb_exp_method         3 non-null      object \n 6   rpb_exp_method        3 non-null      object \n 7   rpb_sel_method        3 non-null      object \n 8   first_loop            3 non-null      object \n 9   measuredTiles         3 non-null      int64  \n 10  surface               3 non-null      int64  \n 11  pathLength            3 non-null      int64  \n 12  sim_duration          3 non-null      float64\n 13  totalPathLengthRPB    3 non-null      float64\n 14  nbMovesRPB            3 non-null      int64  \n 15  averageMoveLengthRPB  3 non-null      float64\n 16  maxLengthMoveRPB      3 non-null      float64\n 17  roomName              3 non-null      object \ndtypes: float64(5), int64(7), object(6)\nmemory usage: 560.0+ bytes\n"
     ]
    }
   ],
   "source": [
    "df.info()"
   ]
  },
  {
   "cell_type": "code",
   "execution_count": null,
   "metadata": {},
   "outputs": [],
   "source": []
  }
 ]
}