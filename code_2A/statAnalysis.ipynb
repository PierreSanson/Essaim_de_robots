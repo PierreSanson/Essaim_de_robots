{
 "metadata": {
  "language_info": {
   "codemirror_mode": {
    "name": "ipython",
    "version": 3
   },
   "file_extension": ".py",
   "mimetype": "text/x-python",
   "name": "python",
   "nbconvert_exporter": "python",
   "pygments_lexer": "ipython3",
   "version": "3.8.3"
  },
  "orig_nbformat": 2,
  "kernelspec": {
   "name": "python383jvsc74a57bd019fd8c6f965378819bce3b8209d0fa1911f2f2e759e4f41d52a5483abc5a424b",
   "display_name": "Python 3.8.3 64-bit ('base': conda)"
  }
 },
 "nbformat": 4,
 "nbformat_minor": 2,
 "cells": [
  {
   "source": [
    "# Statistical Analysis"
   ],
   "cell_type": "markdown",
   "metadata": {}
  },
  {
   "cell_type": "code",
   "execution_count": null,
   "metadata": {},
   "outputs": [],
   "source": [
    "import pandas as pd"
   ]
  },
  {
   "cell_type": "code",
   "execution_count": 8,
   "metadata": {},
   "outputs": [],
   "source": [
    "df = pd.read_csv(\"./noGUI/results/combined_results_2021-05-16T15-47-00.csv\")"
   ]
  },
  {
   "cell_type": "code",
   "execution_count": 11,
   "metadata": {},
   "outputs": [
    {
     "output_type": "execute_result",
     "data": {
      "text/plain": [
       "     sim_number    start_pos  start_angle  nbRefPointBots  nbMeasurerBots  \\\n",
       "0             1  (1098, 288)          0.0               7               1   \n",
       "1             2   (548, 188)          0.0               7               1   \n",
       "2             3   (998, 438)          0.0               7               1   \n",
       "3             4   (698, 738)          0.0               7               1   \n",
       "4             5   (648, 188)          0.0               7               1   \n",
       "..          ...          ...          ...             ...             ...   \n",
       "124           8   (433, 679)          0.0               7               1   \n",
       "125           9   (433, 329)          0.0               7               1   \n",
       "126          10   (733, 729)          0.0               7               1   \n",
       "127          11   (683, 729)          0.0               7               1   \n",
       "128          12   (933, 379)          0.0               7               1   \n",
       "\n",
       "    mb_exp_method                                     rpb_exp_method  \\\n",
       "0    findTargetV1  findClosestClusterToOrigin and findClosestClus...   \n",
       "1    findTargetV2  findClosestClusterToOrigin and findClosestClus...   \n",
       "2    findTargetV3  findClosestClusterToOrigin and findClosestClus...   \n",
       "3    findTargetV1  findClosestClusterToOrigin and findClosestClus...   \n",
       "4    findTargetV2  findClosestClusterToOrigin and findClosestClus...   \n",
       "..            ...                                                ...   \n",
       "124  findTargetV2  findClosestClusterToOrigin and findClosestClus...   \n",
       "125  findTargetV3  findClosestClusterToOrigin and findClosestClus...   \n",
       "126  findTargetV1  findClosestClusterToOrigin and findClosestClus...   \n",
       "127  findTargetV2  findClosestClusterToOrigin and findClosestClus...   \n",
       "128  findTargetV3  findClosestClusterToOrigin and findClosestClus...   \n",
       "\n",
       "          rpb_sel_method first_loop  measuredTiles  surface  pathLength  \\\n",
       "0    findLeastUsefulBots        RPB            256      256         273   \n",
       "1    findLeastUsefulBots        RPB            256      256         257   \n",
       "2    findLeastUsefulBots        RPB            256      256         287   \n",
       "3    findLeastUsefulBots        RPB            256      256         264   \n",
       "4    findLeastUsefulBots        RPB            256      256         257   \n",
       "..                   ...        ...            ...      ...         ...   \n",
       "124  findLeastUsefulBots        RPB            163      163         187   \n",
       "125  findLeastUsefulBots        RPB            163      163         197   \n",
       "126  findLeastUsefulBots        RPB            163      163         194   \n",
       "127  findLeastUsefulBots        RPB            163      163         197   \n",
       "128  findLeastUsefulBots        RPB            163      163         201   \n",
       "\n",
       "     sim_duration         roomName  \n",
       "0        9.023334  UWBSLAM1.pickle  \n",
       "1        7.982458  UWBSLAM1.pickle  \n",
       "2        8.741140  UWBSLAM1.pickle  \n",
       "3       14.062434  UWBSLAM1.pickle  \n",
       "4       10.347652  UWBSLAM1.pickle  \n",
       "..            ...              ...  \n",
       "124     10.112711  UWBSLAM4.pickle  \n",
       "125      9.803635  UWBSLAM4.pickle  \n",
       "126      9.698117  UWBSLAM4.pickle  \n",
       "127      9.459378  UWBSLAM4.pickle  \n",
       "128      7.754616  UWBSLAM4.pickle  \n",
       "\n",
       "[129 rows x 14 columns]"
      ],
      "text/html": "<div>\n<style scoped>\n    .dataframe tbody tr th:only-of-type {\n        vertical-align: middle;\n    }\n\n    .dataframe tbody tr th {\n        vertical-align: top;\n    }\n\n    .dataframe thead th {\n        text-align: right;\n    }\n</style>\n<table border=\"1\" class=\"dataframe\">\n  <thead>\n    <tr style=\"text-align: right;\">\n      <th></th>\n      <th>sim_number</th>\n      <th>start_pos</th>\n      <th>start_angle</th>\n      <th>nbRefPointBots</th>\n      <th>nbMeasurerBots</th>\n      <th>mb_exp_method</th>\n      <th>rpb_exp_method</th>\n      <th>rpb_sel_method</th>\n      <th>first_loop</th>\n      <th>measuredTiles</th>\n      <th>surface</th>\n      <th>pathLength</th>\n      <th>sim_duration</th>\n      <th>roomName</th>\n    </tr>\n  </thead>\n  <tbody>\n    <tr>\n      <th>0</th>\n      <td>1</td>\n      <td>(1098, 288)</td>\n      <td>0.0</td>\n      <td>7</td>\n      <td>1</td>\n      <td>findTargetV1</td>\n      <td>findClosestClusterToOrigin and findClosestClus...</td>\n      <td>findLeastUsefulBots</td>\n      <td>RPB</td>\n      <td>256</td>\n      <td>256</td>\n      <td>273</td>\n      <td>9.023334</td>\n      <td>UWBSLAM1.pickle</td>\n    </tr>\n    <tr>\n      <th>1</th>\n      <td>2</td>\n      <td>(548, 188)</td>\n      <td>0.0</td>\n      <td>7</td>\n      <td>1</td>\n      <td>findTargetV2</td>\n      <td>findClosestClusterToOrigin and findClosestClus...</td>\n      <td>findLeastUsefulBots</td>\n      <td>RPB</td>\n      <td>256</td>\n      <td>256</td>\n      <td>257</td>\n      <td>7.982458</td>\n      <td>UWBSLAM1.pickle</td>\n    </tr>\n    <tr>\n      <th>2</th>\n      <td>3</td>\n      <td>(998, 438)</td>\n      <td>0.0</td>\n      <td>7</td>\n      <td>1</td>\n      <td>findTargetV3</td>\n      <td>findClosestClusterToOrigin and findClosestClus...</td>\n      <td>findLeastUsefulBots</td>\n      <td>RPB</td>\n      <td>256</td>\n      <td>256</td>\n      <td>287</td>\n      <td>8.741140</td>\n      <td>UWBSLAM1.pickle</td>\n    </tr>\n    <tr>\n      <th>3</th>\n      <td>4</td>\n      <td>(698, 738)</td>\n      <td>0.0</td>\n      <td>7</td>\n      <td>1</td>\n      <td>findTargetV1</td>\n      <td>findClosestClusterToOrigin and findClosestClus...</td>\n      <td>findLeastUsefulBots</td>\n      <td>RPB</td>\n      <td>256</td>\n      <td>256</td>\n      <td>264</td>\n      <td>14.062434</td>\n      <td>UWBSLAM1.pickle</td>\n    </tr>\n    <tr>\n      <th>4</th>\n      <td>5</td>\n      <td>(648, 188)</td>\n      <td>0.0</td>\n      <td>7</td>\n      <td>1</td>\n      <td>findTargetV2</td>\n      <td>findClosestClusterToOrigin and findClosestClus...</td>\n      <td>findLeastUsefulBots</td>\n      <td>RPB</td>\n      <td>256</td>\n      <td>256</td>\n      <td>257</td>\n      <td>10.347652</td>\n      <td>UWBSLAM1.pickle</td>\n    </tr>\n    <tr>\n      <th>...</th>\n      <td>...</td>\n      <td>...</td>\n      <td>...</td>\n      <td>...</td>\n      <td>...</td>\n      <td>...</td>\n      <td>...</td>\n      <td>...</td>\n      <td>...</td>\n      <td>...</td>\n      <td>...</td>\n      <td>...</td>\n      <td>...</td>\n      <td>...</td>\n    </tr>\n    <tr>\n      <th>124</th>\n      <td>8</td>\n      <td>(433, 679)</td>\n      <td>0.0</td>\n      <td>7</td>\n      <td>1</td>\n      <td>findTargetV2</td>\n      <td>findClosestClusterToOrigin and findClosestClus...</td>\n      <td>findLeastUsefulBots</td>\n      <td>RPB</td>\n      <td>163</td>\n      <td>163</td>\n      <td>187</td>\n      <td>10.112711</td>\n      <td>UWBSLAM4.pickle</td>\n    </tr>\n    <tr>\n      <th>125</th>\n      <td>9</td>\n      <td>(433, 329)</td>\n      <td>0.0</td>\n      <td>7</td>\n      <td>1</td>\n      <td>findTargetV3</td>\n      <td>findClosestClusterToOrigin and findClosestClus...</td>\n      <td>findLeastUsefulBots</td>\n      <td>RPB</td>\n      <td>163</td>\n      <td>163</td>\n      <td>197</td>\n      <td>9.803635</td>\n      <td>UWBSLAM4.pickle</td>\n    </tr>\n    <tr>\n      <th>126</th>\n      <td>10</td>\n      <td>(733, 729)</td>\n      <td>0.0</td>\n      <td>7</td>\n      <td>1</td>\n      <td>findTargetV1</td>\n      <td>findClosestClusterToOrigin and findClosestClus...</td>\n      <td>findLeastUsefulBots</td>\n      <td>RPB</td>\n      <td>163</td>\n      <td>163</td>\n      <td>194</td>\n      <td>9.698117</td>\n      <td>UWBSLAM4.pickle</td>\n    </tr>\n    <tr>\n      <th>127</th>\n      <td>11</td>\n      <td>(683, 729)</td>\n      <td>0.0</td>\n      <td>7</td>\n      <td>1</td>\n      <td>findTargetV2</td>\n      <td>findClosestClusterToOrigin and findClosestClus...</td>\n      <td>findLeastUsefulBots</td>\n      <td>RPB</td>\n      <td>163</td>\n      <td>163</td>\n      <td>197</td>\n      <td>9.459378</td>\n      <td>UWBSLAM4.pickle</td>\n    </tr>\n    <tr>\n      <th>128</th>\n      <td>12</td>\n      <td>(933, 379)</td>\n      <td>0.0</td>\n      <td>7</td>\n      <td>1</td>\n      <td>findTargetV3</td>\n      <td>findClosestClusterToOrigin and findClosestClus...</td>\n      <td>findLeastUsefulBots</td>\n      <td>RPB</td>\n      <td>163</td>\n      <td>163</td>\n      <td>201</td>\n      <td>7.754616</td>\n      <td>UWBSLAM4.pickle</td>\n    </tr>\n  </tbody>\n</table>\n<p>129 rows × 14 columns</p>\n</div>"
     },
     "metadata": {},
     "execution_count": 11
    }
   ],
   "source": [
    "df"
   ]
  },
  {
   "cell_type": "code",
   "execution_count": 12,
   "metadata": {},
   "outputs": [
    {
     "output_type": "stream",
     "name": "stdout",
     "text": [
      "<class 'pandas.core.frame.DataFrame'>\nRangeIndex: 129 entries, 0 to 128\nData columns (total 14 columns):\n #   Column          Non-Null Count  Dtype  \n---  ------          --------------  -----  \n 0   sim_number      129 non-null    int64  \n 1   start_pos       129 non-null    object \n 2   start_angle     129 non-null    float64\n 3   nbRefPointBots  129 non-null    int64  \n 4   nbMeasurerBots  129 non-null    int64  \n 5   mb_exp_method   129 non-null    object \n 6   rpb_exp_method  129 non-null    object \n 7   rpb_sel_method  129 non-null    object \n 8   first_loop      129 non-null    object \n 9   measuredTiles   129 non-null    int64  \n 10  surface         129 non-null    int64  \n 11  pathLength      129 non-null    int64  \n 12  sim_duration    129 non-null    float64\n 13  roomName        129 non-null    object \ndtypes: float64(2), int64(6), object(6)\nmemory usage: 14.2+ KB\n"
     ]
    }
   ],
   "source": [
    "df.info()"
   ]
  },
  {
   "cell_type": "code",
   "execution_count": null,
   "metadata": {},
   "outputs": [],
   "source": []
  }
 ]
}