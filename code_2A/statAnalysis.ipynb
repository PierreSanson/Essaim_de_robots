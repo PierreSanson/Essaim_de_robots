{
 "metadata": {
  "language_info": {
   "codemirror_mode": {
    "name": "ipython",
    "version": 3
   },
   "file_extension": ".py",
   "mimetype": "text/x-python",
   "name": "python",
   "nbconvert_exporter": "python",
   "pygments_lexer": "ipython3",
   "version": "3.8.3"
  },
  "orig_nbformat": 2,
  "kernelspec": {
   "name": "python383jvsc74a57bd019fd8c6f965378819bce3b8209d0fa1911f2f2e759e4f41d52a5483abc5a424b",
   "display_name": "Python 3.8.3 64-bit ('base': conda)"
  }
 },
 "nbformat": 4,
 "nbformat_minor": 2,
 "cells": [
  {
   "source": [
    "# Statistical Analysis"
   ],
   "cell_type": "markdown",
   "metadata": {}
  },
  {
   "cell_type": "code",
   "execution_count": 39,
   "metadata": {},
   "outputs": [],
   "source": [
    "import pandas as pd\n",
    "import matplotlib.pyplot as plt\n",
    "import plotly.express as px\n",
    "import plotly.graph_objects as go\n"
   ]
  },
  {
   "cell_type": "code",
   "execution_count": 40,
   "metadata": {},
   "outputs": [],
   "source": [
    "df = pd.read_csv(\"./noGUI/results/combined_results_2021-05-21T16-44-05.csv\")\n",
    "# pd.set_option('display.max_rows', df.shape[0]+1)\n"
   ]
  },
  {
   "cell_type": "code",
   "execution_count": 23,
   "metadata": {},
   "outputs": [
    {
     "output_type": "execute_result",
     "data": {
      "text/plain": [
       "     sim_number   start_pos  start_angle  nbRefPointBots  nbMeasurerBots  \\\n",
       "0             1  (692, 809)          0.0               6               1   \n",
       "1             2  (692, 809)          0.0               7               1   \n",
       "2             3  (692, 809)          0.0               8               1   \n",
       "3             4  (692, 809)          0.0               9               1   \n",
       "4             5  (692, 809)          0.0              10               1   \n",
       "..          ...         ...          ...             ...             ...   \n",
       "455         111  (342, 259)          0.0               6               1   \n",
       "456         112  (342, 259)          0.0               7               1   \n",
       "457         113  (342, 259)          0.0               8               1   \n",
       "458         114  (342, 259)          0.0               9               1   \n",
       "459         115  (342, 259)          0.0              10               1   \n",
       "\n",
       "    globalMethodRPB mb_exp_method  \\\n",
       "0       progressive  findTargetV3   \n",
       "1       progressive  findTargetV3   \n",
       "2       progressive  findTargetV3   \n",
       "3       progressive  findTargetV3   \n",
       "4       progressive  findTargetV3   \n",
       "..              ...           ...   \n",
       "455           reset  findTargetV3   \n",
       "456           reset  findTargetV3   \n",
       "457           reset  findTargetV3   \n",
       "458           reset  findTargetV3   \n",
       "459           reset  findTargetV3   \n",
       "\n",
       "                                        rpb_exp_method  \\\n",
       "0    findClosestClusterToOrigin and findClosestClus...   \n",
       "1    findClosestClusterToOrigin and findClosestClus...   \n",
       "2    findClosestClusterToOrigin and findClosestClus...   \n",
       "3    findClosestClusterToOrigin and findClosestClus...   \n",
       "4    findClosestClusterToOrigin and findClosestClus...   \n",
       "..                                                 ...   \n",
       "455  findClosestClusterToOrigin and findClosestClus...   \n",
       "456  findClosestClusterToOrigin and findClosestClus...   \n",
       "457  findClosestClusterToOrigin and findClosestClus...   \n",
       "458  findClosestClusterToOrigin and findClosestClus...   \n",
       "459  findClosestClusterToOrigin and findClosestClus...   \n",
       "\n",
       "                  rpb_sel_method first_loop  measuredTiles  surface  \\\n",
       "0    findLeastUsefulBotsDjikstra        RPB             84      230   \n",
       "1    findLeastUsefulBotsDjikstra        RPB            134      230   \n",
       "2    findLeastUsefulBotsDjikstra        RPB            136      230   \n",
       "3    findLeastUsefulBotsDjikstra        RPB            142      230   \n",
       "4    findLeastUsefulBotsDjikstra        RPB            218      230   \n",
       "..                           ...        ...            ...      ...   \n",
       "455      findFurthestBotDjikstra        RPB            215      230   \n",
       "456      findFurthestBotDjikstra        RPB            189      230   \n",
       "457      findFurthestBotDjikstra        RPB            230      230   \n",
       "458      findFurthestBotDjikstra        RPB            228      230   \n",
       "459      findFurthestBotDjikstra        RPB            230      230   \n",
       "\n",
       "     pathLength  sim_duration  totalPathLengthRPB  nbMovesRPB  \\\n",
       "0           102     45.156999           92.810838          10   \n",
       "1           157     63.561399          134.955652          13   \n",
       "2           208    107.302000          136.826163          15   \n",
       "3           238    102.178000          168.655654          16   \n",
       "4           373    766.088378          373.362065          29   \n",
       "..          ...           ...                 ...         ...   \n",
       "455         287     49.012634          362.586279          42   \n",
       "456         255     63.304955          326.367484          46   \n",
       "457         333     94.348250          592.511755          69   \n",
       "458         327     98.897002          552.142276          66   \n",
       "459         358    108.344515          563.310748          70   \n",
       "\n",
       "     averageMoveLengthRPB  maxLengthMoveRPB                   roomName  \n",
       "0                9.281084         23.868576  ../../../UWBSLAM18.pickle  \n",
       "1               10.381204         23.868576  ../../../UWBSLAM18.pickle  \n",
       "2                9.121744         22.282790  ../../../UWBSLAM18.pickle  \n",
       "3               10.540978         31.288427  ../../../UWBSLAM18.pickle  \n",
       "4               12.874554         32.037680  ../../../UWBSLAM18.pickle  \n",
       "..                    ...               ...                        ...  \n",
       "455              8.633007         20.189102  ../../../UWBSLAM18.pickle  \n",
       "456              7.094945         19.813708  ../../../UWBSLAM18.pickle  \n",
       "457              8.587127         21.512656  ../../../UWBSLAM18.pickle  \n",
       "458              8.365792         15.607381  ../../../UWBSLAM18.pickle  \n",
       "459              8.047296         22.774888  ../../../UWBSLAM18.pickle  \n",
       "\n",
       "[460 rows x 19 columns]"
      ],
      "text/html": "<div>\n<style scoped>\n    .dataframe tbody tr th:only-of-type {\n        vertical-align: middle;\n    }\n\n    .dataframe tbody tr th {\n        vertical-align: top;\n    }\n\n    .dataframe thead th {\n        text-align: right;\n    }\n</style>\n<table border=\"1\" class=\"dataframe\">\n  <thead>\n    <tr style=\"text-align: right;\">\n      <th></th>\n      <th>sim_number</th>\n      <th>start_pos</th>\n      <th>start_angle</th>\n      <th>nbRefPointBots</th>\n      <th>nbMeasurerBots</th>\n      <th>globalMethodRPB</th>\n      <th>mb_exp_method</th>\n      <th>rpb_exp_method</th>\n      <th>rpb_sel_method</th>\n      <th>first_loop</th>\n      <th>measuredTiles</th>\n      <th>surface</th>\n      <th>pathLength</th>\n      <th>sim_duration</th>\n      <th>totalPathLengthRPB</th>\n      <th>nbMovesRPB</th>\n      <th>averageMoveLengthRPB</th>\n      <th>maxLengthMoveRPB</th>\n      <th>roomName</th>\n    </tr>\n  </thead>\n  <tbody>\n    <tr>\n      <th>0</th>\n      <td>1</td>\n      <td>(692, 809)</td>\n      <td>0.0</td>\n      <td>6</td>\n      <td>1</td>\n      <td>progressive</td>\n      <td>findTargetV3</td>\n      <td>findClosestClusterToOrigin and findClosestClus...</td>\n      <td>findLeastUsefulBotsDjikstra</td>\n      <td>RPB</td>\n      <td>84</td>\n      <td>230</td>\n      <td>102</td>\n      <td>45.156999</td>\n      <td>92.810838</td>\n      <td>10</td>\n      <td>9.281084</td>\n      <td>23.868576</td>\n      <td>../../../UWBSLAM18.pickle</td>\n    </tr>\n    <tr>\n      <th>1</th>\n      <td>2</td>\n      <td>(692, 809)</td>\n      <td>0.0</td>\n      <td>7</td>\n      <td>1</td>\n      <td>progressive</td>\n      <td>findTargetV3</td>\n      <td>findClosestClusterToOrigin and findClosestClus...</td>\n      <td>findLeastUsefulBotsDjikstra</td>\n      <td>RPB</td>\n      <td>134</td>\n      <td>230</td>\n      <td>157</td>\n      <td>63.561399</td>\n      <td>134.955652</td>\n      <td>13</td>\n      <td>10.381204</td>\n      <td>23.868576</td>\n      <td>../../../UWBSLAM18.pickle</td>\n    </tr>\n    <tr>\n      <th>2</th>\n      <td>3</td>\n      <td>(692, 809)</td>\n      <td>0.0</td>\n      <td>8</td>\n      <td>1</td>\n      <td>progressive</td>\n      <td>findTargetV3</td>\n      <td>findClosestClusterToOrigin and findClosestClus...</td>\n      <td>findLeastUsefulBotsDjikstra</td>\n      <td>RPB</td>\n      <td>136</td>\n      <td>230</td>\n      <td>208</td>\n      <td>107.302000</td>\n      <td>136.826163</td>\n      <td>15</td>\n      <td>9.121744</td>\n      <td>22.282790</td>\n      <td>../../../UWBSLAM18.pickle</td>\n    </tr>\n    <tr>\n      <th>3</th>\n      <td>4</td>\n      <td>(692, 809)</td>\n      <td>0.0</td>\n      <td>9</td>\n      <td>1</td>\n      <td>progressive</td>\n      <td>findTargetV3</td>\n      <td>findClosestClusterToOrigin and findClosestClus...</td>\n      <td>findLeastUsefulBotsDjikstra</td>\n      <td>RPB</td>\n      <td>142</td>\n      <td>230</td>\n      <td>238</td>\n      <td>102.178000</td>\n      <td>168.655654</td>\n      <td>16</td>\n      <td>10.540978</td>\n      <td>31.288427</td>\n      <td>../../../UWBSLAM18.pickle</td>\n    </tr>\n    <tr>\n      <th>4</th>\n      <td>5</td>\n      <td>(692, 809)</td>\n      <td>0.0</td>\n      <td>10</td>\n      <td>1</td>\n      <td>progressive</td>\n      <td>findTargetV3</td>\n      <td>findClosestClusterToOrigin and findClosestClus...</td>\n      <td>findLeastUsefulBotsDjikstra</td>\n      <td>RPB</td>\n      <td>218</td>\n      <td>230</td>\n      <td>373</td>\n      <td>766.088378</td>\n      <td>373.362065</td>\n      <td>29</td>\n      <td>12.874554</td>\n      <td>32.037680</td>\n      <td>../../../UWBSLAM18.pickle</td>\n    </tr>\n    <tr>\n      <th>...</th>\n      <td>...</td>\n      <td>...</td>\n      <td>...</td>\n      <td>...</td>\n      <td>...</td>\n      <td>...</td>\n      <td>...</td>\n      <td>...</td>\n      <td>...</td>\n      <td>...</td>\n      <td>...</td>\n      <td>...</td>\n      <td>...</td>\n      <td>...</td>\n      <td>...</td>\n      <td>...</td>\n      <td>...</td>\n      <td>...</td>\n      <td>...</td>\n    </tr>\n    <tr>\n      <th>455</th>\n      <td>111</td>\n      <td>(342, 259)</td>\n      <td>0.0</td>\n      <td>6</td>\n      <td>1</td>\n      <td>reset</td>\n      <td>findTargetV3</td>\n      <td>findClosestClusterToOrigin and findClosestClus...</td>\n      <td>findFurthestBotDjikstra</td>\n      <td>RPB</td>\n      <td>215</td>\n      <td>230</td>\n      <td>287</td>\n      <td>49.012634</td>\n      <td>362.586279</td>\n      <td>42</td>\n      <td>8.633007</td>\n      <td>20.189102</td>\n      <td>../../../UWBSLAM18.pickle</td>\n    </tr>\n    <tr>\n      <th>456</th>\n      <td>112</td>\n      <td>(342, 259)</td>\n      <td>0.0</td>\n      <td>7</td>\n      <td>1</td>\n      <td>reset</td>\n      <td>findTargetV3</td>\n      <td>findClosestClusterToOrigin and findClosestClus...</td>\n      <td>findFurthestBotDjikstra</td>\n      <td>RPB</td>\n      <td>189</td>\n      <td>230</td>\n      <td>255</td>\n      <td>63.304955</td>\n      <td>326.367484</td>\n      <td>46</td>\n      <td>7.094945</td>\n      <td>19.813708</td>\n      <td>../../../UWBSLAM18.pickle</td>\n    </tr>\n    <tr>\n      <th>457</th>\n      <td>113</td>\n      <td>(342, 259)</td>\n      <td>0.0</td>\n      <td>8</td>\n      <td>1</td>\n      <td>reset</td>\n      <td>findTargetV3</td>\n      <td>findClosestClusterToOrigin and findClosestClus...</td>\n      <td>findFurthestBotDjikstra</td>\n      <td>RPB</td>\n      <td>230</td>\n      <td>230</td>\n      <td>333</td>\n      <td>94.348250</td>\n      <td>592.511755</td>\n      <td>69</td>\n      <td>8.587127</td>\n      <td>21.512656</td>\n      <td>../../../UWBSLAM18.pickle</td>\n    </tr>\n    <tr>\n      <th>458</th>\n      <td>114</td>\n      <td>(342, 259)</td>\n      <td>0.0</td>\n      <td>9</td>\n      <td>1</td>\n      <td>reset</td>\n      <td>findTargetV3</td>\n      <td>findClosestClusterToOrigin and findClosestClus...</td>\n      <td>findFurthestBotDjikstra</td>\n      <td>RPB</td>\n      <td>228</td>\n      <td>230</td>\n      <td>327</td>\n      <td>98.897002</td>\n      <td>552.142276</td>\n      <td>66</td>\n      <td>8.365792</td>\n      <td>15.607381</td>\n      <td>../../../UWBSLAM18.pickle</td>\n    </tr>\n    <tr>\n      <th>459</th>\n      <td>115</td>\n      <td>(342, 259)</td>\n      <td>0.0</td>\n      <td>10</td>\n      <td>1</td>\n      <td>reset</td>\n      <td>findTargetV3</td>\n      <td>findClosestClusterToOrigin and findClosestClus...</td>\n      <td>findFurthestBotDjikstra</td>\n      <td>RPB</td>\n      <td>230</td>\n      <td>230</td>\n      <td>358</td>\n      <td>108.344515</td>\n      <td>563.310748</td>\n      <td>70</td>\n      <td>8.047296</td>\n      <td>22.774888</td>\n      <td>../../../UWBSLAM18.pickle</td>\n    </tr>\n  </tbody>\n</table>\n<p>460 rows × 19 columns</p>\n</div>"
     },
     "metadata": {},
     "execution_count": 23
    }
   ],
   "source": [
    "df"
   ]
  },
  {
   "cell_type": "code",
   "execution_count": 24,
   "metadata": {},
   "outputs": [
    {
     "output_type": "stream",
     "name": "stdout",
     "text": [
      "<class 'pandas.core.frame.DataFrame'>\nRangeIndex: 460 entries, 0 to 459\nData columns (total 19 columns):\n #   Column                Non-Null Count  Dtype  \n---  ------                --------------  -----  \n 0   sim_number            460 non-null    int64  \n 1   start_pos             460 non-null    object \n 2   start_angle           460 non-null    float64\n 3   nbRefPointBots        460 non-null    int64  \n 4   nbMeasurerBots        460 non-null    int64  \n 5   globalMethodRPB       460 non-null    object \n 6   mb_exp_method         460 non-null    object \n 7   rpb_exp_method        460 non-null    object \n 8   rpb_sel_method        460 non-null    object \n 9   first_loop            460 non-null    object \n 10  measuredTiles         460 non-null    int64  \n 11  surface               460 non-null    int64  \n 12  pathLength            460 non-null    int64  \n 13  sim_duration          460 non-null    float64\n 14  totalPathLengthRPB    460 non-null    float64\n 15  nbMovesRPB            460 non-null    int64  \n 16  averageMoveLengthRPB  460 non-null    float64\n 17  maxLengthMoveRPB      460 non-null    float64\n 18  roomName              460 non-null    object \ndtypes: float64(5), int64(7), object(7)\nmemory usage: 68.4+ KB\n"
     ]
    }
   ],
   "source": [
    "df.info()"
   ]
  },
  {
   "cell_type": "code",
   "execution_count": 41,
   "metadata": {},
   "outputs": [],
   "source": [
    "progSeries = df[(df[\"globalMethodRPB\"] == \"progressive\") & (df[\"rpb_sel_method\"] == \"findFurthestBotDjikstra\")]\n",
    "resetSeries = df[(df[\"globalMethodRPB\"] == \"reset\") & (df[\"rpb_sel_method\"] == \"findLeastUsefulBotsDjikstra\")]\n",
    "\n",
    "# progSeries = df[(df[\"globalMethodRPB\"] == \"progressive\")]\n",
    "# resetSeries = df[(df[\"globalMethodRPB\"] == \"reset\")]\n"
   ]
  },
  {
   "cell_type": "code",
   "execution_count": 45,
   "metadata": {},
   "outputs": [],
   "source": [
    "nbRefPointBots = []\n",
    "progMeasuredTiles = []\n",
    "resetMeasuredTiles = []\n",
    "progTotalPathLengthRPB = [] \n",
    "resetTotalPathLengthRPB = []\n",
    "for i in progSeries[\"nbRefPointBots\"].unique():\n",
    "    nbRefPointBots.append(i)\n",
    "    progMeasuredTiles.append(progSeries[progSeries[\"nbRefPointBots\"] == i][\"measuredTiles\"].mean())\n",
    "    resetMeasuredTiles.append(resetSeries[resetSeries[\"nbRefPointBots\"] == i][\"measuredTiles\"].mean())\n",
    "    progTotalPathLengthRPB.append(progSeries[progSeries[\"nbRefPointBots\"] == i][\"totalPathLengthRPB\"].mean())\n",
    "    resetTotalPathLengthRPB.append(resetSeries[resetSeries[\"nbRefPointBots\"] == i][\"totalPathLengthRPB\"].mean())\n"
   ]
  },
  {
   "cell_type": "code",
   "execution_count": 51,
   "metadata": {},
   "outputs": [
    {
     "output_type": "display_data",
     "data": {
      "application/vnd.plotly.v1+json": {
       "config": {
        "plotlyServerURL": "https://plot.ly"
       },
       "data": [
        {
         "mode": "markers",
         "name": "progressive method",
         "type": "scatter",
         "x": [
          6,
          7,
          8,
          9,
          10
         ],
         "y": [
          94.19565217391305,
          115.8695652173913,
          159.95652173913044,
          178.7608695652174,
          192.41304347826087
         ]
        },
        {
         "mode": "markers",
         "name": "reset method",
         "type": "scatter",
         "x": [
          6,
          7,
          8,
          9,
          10
         ],
         "y": [
          180.97826086956522,
          214.93478260869566,
          216.67391304347825,
          218.82608695652175,
          226.1304347826087
         ]
        }
       ],
       "layout": {
        "annotations": [
         {
          "showarrow": false,
          "text": "total number of tiles",
          "x": 1,
          "xanchor": "right",
          "xref": "x domain",
          "y": 230,
          "yanchor": "bottom",
          "yref": "y"
         }
        ],
        "legend": {
         "title": {
          "text": "Methods"
         }
        },
        "shapes": [
         {
          "type": "line",
          "x0": 0,
          "x1": 1,
          "xref": "x domain",
          "y0": 230,
          "y1": 230,
          "yref": "y"
         }
        ],
        "template": {
         "data": {
          "bar": [
           {
            "error_x": {
             "color": "#2a3f5f"
            },
            "error_y": {
             "color": "#2a3f5f"
            },
            "marker": {
             "line": {
              "color": "#E5ECF6",
              "width": 0.5
             }
            },
            "type": "bar"
           }
          ],
          "barpolar": [
           {
            "marker": {
             "line": {
              "color": "#E5ECF6",
              "width": 0.5
             }
            },
            "type": "barpolar"
           }
          ],
          "carpet": [
           {
            "aaxis": {
             "endlinecolor": "#2a3f5f",
             "gridcolor": "white",
             "linecolor": "white",
             "minorgridcolor": "white",
             "startlinecolor": "#2a3f5f"
            },
            "baxis": {
             "endlinecolor": "#2a3f5f",
             "gridcolor": "white",
             "linecolor": "white",
             "minorgridcolor": "white",
             "startlinecolor": "#2a3f5f"
            },
            "type": "carpet"
           }
          ],
          "choropleth": [
           {
            "colorbar": {
             "outlinewidth": 0,
             "ticks": ""
            },
            "type": "choropleth"
           }
          ],
          "contour": [
           {
            "colorbar": {
             "outlinewidth": 0,
             "ticks": ""
            },
            "colorscale": [
             [
              0,
              "#0d0887"
             ],
             [
              0.1111111111111111,
              "#46039f"
             ],
             [
              0.2222222222222222,
              "#7201a8"
             ],
             [
              0.3333333333333333,
              "#9c179e"
             ],
             [
              0.4444444444444444,
              "#bd3786"
             ],
             [
              0.5555555555555556,
              "#d8576b"
             ],
             [
              0.6666666666666666,
              "#ed7953"
             ],
             [
              0.7777777777777778,
              "#fb9f3a"
             ],
             [
              0.8888888888888888,
              "#fdca26"
             ],
             [
              1,
              "#f0f921"
             ]
            ],
            "type": "contour"
           }
          ],
          "contourcarpet": [
           {
            "colorbar": {
             "outlinewidth": 0,
             "ticks": ""
            },
            "type": "contourcarpet"
           }
          ],
          "heatmap": [
           {
            "colorbar": {
             "outlinewidth": 0,
             "ticks": ""
            },
            "colorscale": [
             [
              0,
              "#0d0887"
             ],
             [
              0.1111111111111111,
              "#46039f"
             ],
             [
              0.2222222222222222,
              "#7201a8"
             ],
             [
              0.3333333333333333,
              "#9c179e"
             ],
             [
              0.4444444444444444,
              "#bd3786"
             ],
             [
              0.5555555555555556,
              "#d8576b"
             ],
             [
              0.6666666666666666,
              "#ed7953"
             ],
             [
              0.7777777777777778,
              "#fb9f3a"
             ],
             [
              0.8888888888888888,
              "#fdca26"
             ],
             [
              1,
              "#f0f921"
             ]
            ],
            "type": "heatmap"
           }
          ],
          "heatmapgl": [
           {
            "colorbar": {
             "outlinewidth": 0,
             "ticks": ""
            },
            "colorscale": [
             [
              0,
              "#0d0887"
             ],
             [
              0.1111111111111111,
              "#46039f"
             ],
             [
              0.2222222222222222,
              "#7201a8"
             ],
             [
              0.3333333333333333,
              "#9c179e"
             ],
             [
              0.4444444444444444,
              "#bd3786"
             ],
             [
              0.5555555555555556,
              "#d8576b"
             ],
             [
              0.6666666666666666,
              "#ed7953"
             ],
             [
              0.7777777777777778,
              "#fb9f3a"
             ],
             [
              0.8888888888888888,
              "#fdca26"
             ],
             [
              1,
              "#f0f921"
             ]
            ],
            "type": "heatmapgl"
           }
          ],
          "histogram": [
           {
            "marker": {
             "colorbar": {
              "outlinewidth": 0,
              "ticks": ""
             }
            },
            "type": "histogram"
           }
          ],
          "histogram2d": [
           {
            "colorbar": {
             "outlinewidth": 0,
             "ticks": ""
            },
            "colorscale": [
             [
              0,
              "#0d0887"
             ],
             [
              0.1111111111111111,
              "#46039f"
             ],
             [
              0.2222222222222222,
              "#7201a8"
             ],
             [
              0.3333333333333333,
              "#9c179e"
             ],
             [
              0.4444444444444444,
              "#bd3786"
             ],
             [
              0.5555555555555556,
              "#d8576b"
             ],
             [
              0.6666666666666666,
              "#ed7953"
             ],
             [
              0.7777777777777778,
              "#fb9f3a"
             ],
             [
              0.8888888888888888,
              "#fdca26"
             ],
             [
              1,
              "#f0f921"
             ]
            ],
            "type": "histogram2d"
           }
          ],
          "histogram2dcontour": [
           {
            "colorbar": {
             "outlinewidth": 0,
             "ticks": ""
            },
            "colorscale": [
             [
              0,
              "#0d0887"
             ],
             [
              0.1111111111111111,
              "#46039f"
             ],
             [
              0.2222222222222222,
              "#7201a8"
             ],
             [
              0.3333333333333333,
              "#9c179e"
             ],
             [
              0.4444444444444444,
              "#bd3786"
             ],
             [
              0.5555555555555556,
              "#d8576b"
             ],
             [
              0.6666666666666666,
              "#ed7953"
             ],
             [
              0.7777777777777778,
              "#fb9f3a"
             ],
             [
              0.8888888888888888,
              "#fdca26"
             ],
             [
              1,
              "#f0f921"
             ]
            ],
            "type": "histogram2dcontour"
           }
          ],
          "mesh3d": [
           {
            "colorbar": {
             "outlinewidth": 0,
             "ticks": ""
            },
            "type": "mesh3d"
           }
          ],
          "parcoords": [
           {
            "line": {
             "colorbar": {
              "outlinewidth": 0,
              "ticks": ""
             }
            },
            "type": "parcoords"
           }
          ],
          "pie": [
           {
            "automargin": true,
            "type": "pie"
           }
          ],
          "scatter": [
           {
            "marker": {
             "colorbar": {
              "outlinewidth": 0,
              "ticks": ""
             }
            },
            "type": "scatter"
           }
          ],
          "scatter3d": [
           {
            "line": {
             "colorbar": {
              "outlinewidth": 0,
              "ticks": ""
             }
            },
            "marker": {
             "colorbar": {
              "outlinewidth": 0,
              "ticks": ""
             }
            },
            "type": "scatter3d"
           }
          ],
          "scattercarpet": [
           {
            "marker": {
             "colorbar": {
              "outlinewidth": 0,
              "ticks": ""
             }
            },
            "type": "scattercarpet"
           }
          ],
          "scattergeo": [
           {
            "marker": {
             "colorbar": {
              "outlinewidth": 0,
              "ticks": ""
             }
            },
            "type": "scattergeo"
           }
          ],
          "scattergl": [
           {
            "marker": {
             "colorbar": {
              "outlinewidth": 0,
              "ticks": ""
             }
            },
            "type": "scattergl"
           }
          ],
          "scattermapbox": [
           {
            "marker": {
             "colorbar": {
              "outlinewidth": 0,
              "ticks": ""
             }
            },
            "type": "scattermapbox"
           }
          ],
          "scatterpolar": [
           {
            "marker": {
             "colorbar": {
              "outlinewidth": 0,
              "ticks": ""
             }
            },
            "type": "scatterpolar"
           }
          ],
          "scatterpolargl": [
           {
            "marker": {
             "colorbar": {
              "outlinewidth": 0,
              "ticks": ""
             }
            },
            "type": "scatterpolargl"
           }
          ],
          "scatterternary": [
           {
            "marker": {
             "colorbar": {
              "outlinewidth": 0,
              "ticks": ""
             }
            },
            "type": "scatterternary"
           }
          ],
          "surface": [
           {
            "colorbar": {
             "outlinewidth": 0,
             "ticks": ""
            },
            "colorscale": [
             [
              0,
              "#0d0887"
             ],
             [
              0.1111111111111111,
              "#46039f"
             ],
             [
              0.2222222222222222,
              "#7201a8"
             ],
             [
              0.3333333333333333,
              "#9c179e"
             ],
             [
              0.4444444444444444,
              "#bd3786"
             ],
             [
              0.5555555555555556,
              "#d8576b"
             ],
             [
              0.6666666666666666,
              "#ed7953"
             ],
             [
              0.7777777777777778,
              "#fb9f3a"
             ],
             [
              0.8888888888888888,
              "#fdca26"
             ],
             [
              1,
              "#f0f921"
             ]
            ],
            "type": "surface"
           }
          ],
          "table": [
           {
            "cells": {
             "fill": {
              "color": "#EBF0F8"
             },
             "line": {
              "color": "white"
             }
            },
            "header": {
             "fill": {
              "color": "#C8D4E3"
             },
             "line": {
              "color": "white"
             }
            },
            "type": "table"
           }
          ]
         },
         "layout": {
          "annotationdefaults": {
           "arrowcolor": "#2a3f5f",
           "arrowhead": 0,
           "arrowwidth": 1
          },
          "autotypenumbers": "strict",
          "coloraxis": {
           "colorbar": {
            "outlinewidth": 0,
            "ticks": ""
           }
          },
          "colorscale": {
           "diverging": [
            [
             0,
             "#8e0152"
            ],
            [
             0.1,
             "#c51b7d"
            ],
            [
             0.2,
             "#de77ae"
            ],
            [
             0.3,
             "#f1b6da"
            ],
            [
             0.4,
             "#fde0ef"
            ],
            [
             0.5,
             "#f7f7f7"
            ],
            [
             0.6,
             "#e6f5d0"
            ],
            [
             0.7,
             "#b8e186"
            ],
            [
             0.8,
             "#7fbc41"
            ],
            [
             0.9,
             "#4d9221"
            ],
            [
             1,
             "#276419"
            ]
           ],
           "sequential": [
            [
             0,
             "#0d0887"
            ],
            [
             0.1111111111111111,
             "#46039f"
            ],
            [
             0.2222222222222222,
             "#7201a8"
            ],
            [
             0.3333333333333333,
             "#9c179e"
            ],
            [
             0.4444444444444444,
             "#bd3786"
            ],
            [
             0.5555555555555556,
             "#d8576b"
            ],
            [
             0.6666666666666666,
             "#ed7953"
            ],
            [
             0.7777777777777778,
             "#fb9f3a"
            ],
            [
             0.8888888888888888,
             "#fdca26"
            ],
            [
             1,
             "#f0f921"
            ]
           ],
           "sequentialminus": [
            [
             0,
             "#0d0887"
            ],
            [
             0.1111111111111111,
             "#46039f"
            ],
            [
             0.2222222222222222,
             "#7201a8"
            ],
            [
             0.3333333333333333,
             "#9c179e"
            ],
            [
             0.4444444444444444,
             "#bd3786"
            ],
            [
             0.5555555555555556,
             "#d8576b"
            ],
            [
             0.6666666666666666,
             "#ed7953"
            ],
            [
             0.7777777777777778,
             "#fb9f3a"
            ],
            [
             0.8888888888888888,
             "#fdca26"
            ],
            [
             1,
             "#f0f921"
            ]
           ]
          },
          "colorway": [
           "#636efa",
           "#EF553B",
           "#00cc96",
           "#ab63fa",
           "#FFA15A",
           "#19d3f3",
           "#FF6692",
           "#B6E880",
           "#FF97FF",
           "#FECB52"
          ],
          "font": {
           "color": "#2a3f5f"
          },
          "geo": {
           "bgcolor": "white",
           "lakecolor": "white",
           "landcolor": "#E5ECF6",
           "showlakes": true,
           "showland": true,
           "subunitcolor": "white"
          },
          "hoverlabel": {
           "align": "left"
          },
          "hovermode": "closest",
          "mapbox": {
           "style": "light"
          },
          "paper_bgcolor": "white",
          "plot_bgcolor": "#E5ECF6",
          "polar": {
           "angularaxis": {
            "gridcolor": "white",
            "linecolor": "white",
            "ticks": ""
           },
           "bgcolor": "#E5ECF6",
           "radialaxis": {
            "gridcolor": "white",
            "linecolor": "white",
            "ticks": ""
           }
          },
          "scene": {
           "xaxis": {
            "backgroundcolor": "#E5ECF6",
            "gridcolor": "white",
            "gridwidth": 2,
            "linecolor": "white",
            "showbackground": true,
            "ticks": "",
            "zerolinecolor": "white"
           },
           "yaxis": {
            "backgroundcolor": "#E5ECF6",
            "gridcolor": "white",
            "gridwidth": 2,
            "linecolor": "white",
            "showbackground": true,
            "ticks": "",
            "zerolinecolor": "white"
           },
           "zaxis": {
            "backgroundcolor": "#E5ECF6",
            "gridcolor": "white",
            "gridwidth": 2,
            "linecolor": "white",
            "showbackground": true,
            "ticks": "",
            "zerolinecolor": "white"
           }
          },
          "shapedefaults": {
           "line": {
            "color": "#2a3f5f"
           }
          },
          "ternary": {
           "aaxis": {
            "gridcolor": "white",
            "linecolor": "white",
            "ticks": ""
           },
           "baxis": {
            "gridcolor": "white",
            "linecolor": "white",
            "ticks": ""
           },
           "bgcolor": "#E5ECF6",
           "caxis": {
            "gridcolor": "white",
            "linecolor": "white",
            "ticks": ""
           }
          },
          "title": {
           "x": 0.05
          },
          "xaxis": {
           "automargin": true,
           "gridcolor": "white",
           "linecolor": "white",
           "ticks": "",
           "title": {
            "standoff": 15
           },
           "zerolinecolor": "white",
           "zerolinewidth": 2
          },
          "yaxis": {
           "automargin": true,
           "gridcolor": "white",
           "linecolor": "white",
           "ticks": "",
           "title": {
            "standoff": 15
           },
           "zerolinecolor": "white",
           "zerolinewidth": 2
          }
         }
        },
        "title": {
         "text": "Number of tiles visited with different methods"
        },
        "yaxis": {
         "title": {
          "text": "number of tiles visited"
         }
        }
       }
      }
     },
     "metadata": {}
    }
   ],
   "source": [
    "fig = go.Figure()\n",
    "fig.add_trace(go.Scatter(x=nbRefPointBots, y=progMeasuredTiles,\n",
    "                    mode='markers',\n",
    "                    name='progressive method'))\n",
    "fig.add_trace(go.Scatter(x=nbRefPointBots, y=resetMeasuredTiles,\n",
    "                    mode='markers',\n",
    "                    name='reset method'))\n",
    "                    \n",
    "fig.add_hline(y=df[\"surface\"].unique()[0], annotation_text='total number of tiles')\n",
    "\n",
    "fig.update_layout(\n",
    "    title=\"Number of tiles visited with different methods\",\n",
    "    yaxis_title=\"number of tiles visited\",\n",
    "    legend_title=\"Methods\",\n",
    ")      \n",
    "fig.show()"
   ]
  },
  {
   "cell_type": "code",
   "execution_count": 52,
   "metadata": {},
   "outputs": [
    {
     "output_type": "display_data",
     "data": {
      "application/vnd.plotly.v1+json": {
       "config": {
        "plotlyServerURL": "https://plot.ly"
       },
       "data": [
        {
         "mode": "markers",
         "name": "progressive method",
         "type": "scatter",
         "x": [
          6,
          7,
          8,
          9,
          10
         ],
         "y": [
          103.04984426499267,
          137.03065501744183,
          223.90578169184934,
          282.29996574060215,
          339.95134094731355
         ]
        },
        {
         "mode": "markers",
         "name": "reset method",
         "type": "scatter",
         "x": [
          6,
          7,
          8,
          9,
          10
         ],
         "y": [
          298.46250347344295,
          396.6970500539616,
          444.4579294972551,
          469.89425036250896,
          572.6886590049515
         ]
        }
       ],
       "layout": {
        "legend": {
         "title": {
          "text": "Methods"
         }
        },
        "template": {
         "data": {
          "bar": [
           {
            "error_x": {
             "color": "#2a3f5f"
            },
            "error_y": {
             "color": "#2a3f5f"
            },
            "marker": {
             "line": {
              "color": "#E5ECF6",
              "width": 0.5
             }
            },
            "type": "bar"
           }
          ],
          "barpolar": [
           {
            "marker": {
             "line": {
              "color": "#E5ECF6",
              "width": 0.5
             }
            },
            "type": "barpolar"
           }
          ],
          "carpet": [
           {
            "aaxis": {
             "endlinecolor": "#2a3f5f",
             "gridcolor": "white",
             "linecolor": "white",
             "minorgridcolor": "white",
             "startlinecolor": "#2a3f5f"
            },
            "baxis": {
             "endlinecolor": "#2a3f5f",
             "gridcolor": "white",
             "linecolor": "white",
             "minorgridcolor": "white",
             "startlinecolor": "#2a3f5f"
            },
            "type": "carpet"
           }
          ],
          "choropleth": [
           {
            "colorbar": {
             "outlinewidth": 0,
             "ticks": ""
            },
            "type": "choropleth"
           }
          ],
          "contour": [
           {
            "colorbar": {
             "outlinewidth": 0,
             "ticks": ""
            },
            "colorscale": [
             [
              0,
              "#0d0887"
             ],
             [
              0.1111111111111111,
              "#46039f"
             ],
             [
              0.2222222222222222,
              "#7201a8"
             ],
             [
              0.3333333333333333,
              "#9c179e"
             ],
             [
              0.4444444444444444,
              "#bd3786"
             ],
             [
              0.5555555555555556,
              "#d8576b"
             ],
             [
              0.6666666666666666,
              "#ed7953"
             ],
             [
              0.7777777777777778,
              "#fb9f3a"
             ],
             [
              0.8888888888888888,
              "#fdca26"
             ],
             [
              1,
              "#f0f921"
             ]
            ],
            "type": "contour"
           }
          ],
          "contourcarpet": [
           {
            "colorbar": {
             "outlinewidth": 0,
             "ticks": ""
            },
            "type": "contourcarpet"
           }
          ],
          "heatmap": [
           {
            "colorbar": {
             "outlinewidth": 0,
             "ticks": ""
            },
            "colorscale": [
             [
              0,
              "#0d0887"
             ],
             [
              0.1111111111111111,
              "#46039f"
             ],
             [
              0.2222222222222222,
              "#7201a8"
             ],
             [
              0.3333333333333333,
              "#9c179e"
             ],
             [
              0.4444444444444444,
              "#bd3786"
             ],
             [
              0.5555555555555556,
              "#d8576b"
             ],
             [
              0.6666666666666666,
              "#ed7953"
             ],
             [
              0.7777777777777778,
              "#fb9f3a"
             ],
             [
              0.8888888888888888,
              "#fdca26"
             ],
             [
              1,
              "#f0f921"
             ]
            ],
            "type": "heatmap"
           }
          ],
          "heatmapgl": [
           {
            "colorbar": {
             "outlinewidth": 0,
             "ticks": ""
            },
            "colorscale": [
             [
              0,
              "#0d0887"
             ],
             [
              0.1111111111111111,
              "#46039f"
             ],
             [
              0.2222222222222222,
              "#7201a8"
             ],
             [
              0.3333333333333333,
              "#9c179e"
             ],
             [
              0.4444444444444444,
              "#bd3786"
             ],
             [
              0.5555555555555556,
              "#d8576b"
             ],
             [
              0.6666666666666666,
              "#ed7953"
             ],
             [
              0.7777777777777778,
              "#fb9f3a"
             ],
             [
              0.8888888888888888,
              "#fdca26"
             ],
             [
              1,
              "#f0f921"
             ]
            ],
            "type": "heatmapgl"
           }
          ],
          "histogram": [
           {
            "marker": {
             "colorbar": {
              "outlinewidth": 0,
              "ticks": ""
             }
            },
            "type": "histogram"
           }
          ],
          "histogram2d": [
           {
            "colorbar": {
             "outlinewidth": 0,
             "ticks": ""
            },
            "colorscale": [
             [
              0,
              "#0d0887"
             ],
             [
              0.1111111111111111,
              "#46039f"
             ],
             [
              0.2222222222222222,
              "#7201a8"
             ],
             [
              0.3333333333333333,
              "#9c179e"
             ],
             [
              0.4444444444444444,
              "#bd3786"
             ],
             [
              0.5555555555555556,
              "#d8576b"
             ],
             [
              0.6666666666666666,
              "#ed7953"
             ],
             [
              0.7777777777777778,
              "#fb9f3a"
             ],
             [
              0.8888888888888888,
              "#fdca26"
             ],
             [
              1,
              "#f0f921"
             ]
            ],
            "type": "histogram2d"
           }
          ],
          "histogram2dcontour": [
           {
            "colorbar": {
             "outlinewidth": 0,
             "ticks": ""
            },
            "colorscale": [
             [
              0,
              "#0d0887"
             ],
             [
              0.1111111111111111,
              "#46039f"
             ],
             [
              0.2222222222222222,
              "#7201a8"
             ],
             [
              0.3333333333333333,
              "#9c179e"
             ],
             [
              0.4444444444444444,
              "#bd3786"
             ],
             [
              0.5555555555555556,
              "#d8576b"
             ],
             [
              0.6666666666666666,
              "#ed7953"
             ],
             [
              0.7777777777777778,
              "#fb9f3a"
             ],
             [
              0.8888888888888888,
              "#fdca26"
             ],
             [
              1,
              "#f0f921"
             ]
            ],
            "type": "histogram2dcontour"
           }
          ],
          "mesh3d": [
           {
            "colorbar": {
             "outlinewidth": 0,
             "ticks": ""
            },
            "type": "mesh3d"
           }
          ],
          "parcoords": [
           {
            "line": {
             "colorbar": {
              "outlinewidth": 0,
              "ticks": ""
             }
            },
            "type": "parcoords"
           }
          ],
          "pie": [
           {
            "automargin": true,
            "type": "pie"
           }
          ],
          "scatter": [
           {
            "marker": {
             "colorbar": {
              "outlinewidth": 0,
              "ticks": ""
             }
            },
            "type": "scatter"
           }
          ],
          "scatter3d": [
           {
            "line": {
             "colorbar": {
              "outlinewidth": 0,
              "ticks": ""
             }
            },
            "marker": {
             "colorbar": {
              "outlinewidth": 0,
              "ticks": ""
             }
            },
            "type": "scatter3d"
           }
          ],
          "scattercarpet": [
           {
            "marker": {
             "colorbar": {
              "outlinewidth": 0,
              "ticks": ""
             }
            },
            "type": "scattercarpet"
           }
          ],
          "scattergeo": [
           {
            "marker": {
             "colorbar": {
              "outlinewidth": 0,
              "ticks": ""
             }
            },
            "type": "scattergeo"
           }
          ],
          "scattergl": [
           {
            "marker": {
             "colorbar": {
              "outlinewidth": 0,
              "ticks": ""
             }
            },
            "type": "scattergl"
           }
          ],
          "scattermapbox": [
           {
            "marker": {
             "colorbar": {
              "outlinewidth": 0,
              "ticks": ""
             }
            },
            "type": "scattermapbox"
           }
          ],
          "scatterpolar": [
           {
            "marker": {
             "colorbar": {
              "outlinewidth": 0,
              "ticks": ""
             }
            },
            "type": "scatterpolar"
           }
          ],
          "scatterpolargl": [
           {
            "marker": {
             "colorbar": {
              "outlinewidth": 0,
              "ticks": ""
             }
            },
            "type": "scatterpolargl"
           }
          ],
          "scatterternary": [
           {
            "marker": {
             "colorbar": {
              "outlinewidth": 0,
              "ticks": ""
             }
            },
            "type": "scatterternary"
           }
          ],
          "surface": [
           {
            "colorbar": {
             "outlinewidth": 0,
             "ticks": ""
            },
            "colorscale": [
             [
              0,
              "#0d0887"
             ],
             [
              0.1111111111111111,
              "#46039f"
             ],
             [
              0.2222222222222222,
              "#7201a8"
             ],
             [
              0.3333333333333333,
              "#9c179e"
             ],
             [
              0.4444444444444444,
              "#bd3786"
             ],
             [
              0.5555555555555556,
              "#d8576b"
             ],
             [
              0.6666666666666666,
              "#ed7953"
             ],
             [
              0.7777777777777778,
              "#fb9f3a"
             ],
             [
              0.8888888888888888,
              "#fdca26"
             ],
             [
              1,
              "#f0f921"
             ]
            ],
            "type": "surface"
           }
          ],
          "table": [
           {
            "cells": {
             "fill": {
              "color": "#EBF0F8"
             },
             "line": {
              "color": "white"
             }
            },
            "header": {
             "fill": {
              "color": "#C8D4E3"
             },
             "line": {
              "color": "white"
             }
            },
            "type": "table"
           }
          ]
         },
         "layout": {
          "annotationdefaults": {
           "arrowcolor": "#2a3f5f",
           "arrowhead": 0,
           "arrowwidth": 1
          },
          "autotypenumbers": "strict",
          "coloraxis": {
           "colorbar": {
            "outlinewidth": 0,
            "ticks": ""
           }
          },
          "colorscale": {
           "diverging": [
            [
             0,
             "#8e0152"
            ],
            [
             0.1,
             "#c51b7d"
            ],
            [
             0.2,
             "#de77ae"
            ],
            [
             0.3,
             "#f1b6da"
            ],
            [
             0.4,
             "#fde0ef"
            ],
            [
             0.5,
             "#f7f7f7"
            ],
            [
             0.6,
             "#e6f5d0"
            ],
            [
             0.7,
             "#b8e186"
            ],
            [
             0.8,
             "#7fbc41"
            ],
            [
             0.9,
             "#4d9221"
            ],
            [
             1,
             "#276419"
            ]
           ],
           "sequential": [
            [
             0,
             "#0d0887"
            ],
            [
             0.1111111111111111,
             "#46039f"
            ],
            [
             0.2222222222222222,
             "#7201a8"
            ],
            [
             0.3333333333333333,
             "#9c179e"
            ],
            [
             0.4444444444444444,
             "#bd3786"
            ],
            [
             0.5555555555555556,
             "#d8576b"
            ],
            [
             0.6666666666666666,
             "#ed7953"
            ],
            [
             0.7777777777777778,
             "#fb9f3a"
            ],
            [
             0.8888888888888888,
             "#fdca26"
            ],
            [
             1,
             "#f0f921"
            ]
           ],
           "sequentialminus": [
            [
             0,
             "#0d0887"
            ],
            [
             0.1111111111111111,
             "#46039f"
            ],
            [
             0.2222222222222222,
             "#7201a8"
            ],
            [
             0.3333333333333333,
             "#9c179e"
            ],
            [
             0.4444444444444444,
             "#bd3786"
            ],
            [
             0.5555555555555556,
             "#d8576b"
            ],
            [
             0.6666666666666666,
             "#ed7953"
            ],
            [
             0.7777777777777778,
             "#fb9f3a"
            ],
            [
             0.8888888888888888,
             "#fdca26"
            ],
            [
             1,
             "#f0f921"
            ]
           ]
          },
          "colorway": [
           "#636efa",
           "#EF553B",
           "#00cc96",
           "#ab63fa",
           "#FFA15A",
           "#19d3f3",
           "#FF6692",
           "#B6E880",
           "#FF97FF",
           "#FECB52"
          ],
          "font": {
           "color": "#2a3f5f"
          },
          "geo": {
           "bgcolor": "white",
           "lakecolor": "white",
           "landcolor": "#E5ECF6",
           "showlakes": true,
           "showland": true,
           "subunitcolor": "white"
          },
          "hoverlabel": {
           "align": "left"
          },
          "hovermode": "closest",
          "mapbox": {
           "style": "light"
          },
          "paper_bgcolor": "white",
          "plot_bgcolor": "#E5ECF6",
          "polar": {
           "angularaxis": {
            "gridcolor": "white",
            "linecolor": "white",
            "ticks": ""
           },
           "bgcolor": "#E5ECF6",
           "radialaxis": {
            "gridcolor": "white",
            "linecolor": "white",
            "ticks": ""
           }
          },
          "scene": {
           "xaxis": {
            "backgroundcolor": "#E5ECF6",
            "gridcolor": "white",
            "gridwidth": 2,
            "linecolor": "white",
            "showbackground": true,
            "ticks": "",
            "zerolinecolor": "white"
           },
           "yaxis": {
            "backgroundcolor": "#E5ECF6",
            "gridcolor": "white",
            "gridwidth": 2,
            "linecolor": "white",
            "showbackground": true,
            "ticks": "",
            "zerolinecolor": "white"
           },
           "zaxis": {
            "backgroundcolor": "#E5ECF6",
            "gridcolor": "white",
            "gridwidth": 2,
            "linecolor": "white",
            "showbackground": true,
            "ticks": "",
            "zerolinecolor": "white"
           }
          },
          "shapedefaults": {
           "line": {
            "color": "#2a3f5f"
           }
          },
          "ternary": {
           "aaxis": {
            "gridcolor": "white",
            "linecolor": "white",
            "ticks": ""
           },
           "baxis": {
            "gridcolor": "white",
            "linecolor": "white",
            "ticks": ""
           },
           "bgcolor": "#E5ECF6",
           "caxis": {
            "gridcolor": "white",
            "linecolor": "white",
            "ticks": ""
           }
          },
          "title": {
           "x": 0.05
          },
          "xaxis": {
           "automargin": true,
           "gridcolor": "white",
           "linecolor": "white",
           "ticks": "",
           "title": {
            "standoff": 15
           },
           "zerolinecolor": "white",
           "zerolinewidth": 2
          },
          "yaxis": {
           "automargin": true,
           "gridcolor": "white",
           "linecolor": "white",
           "ticks": "",
           "title": {
            "standoff": 15
           },
           "zerolinecolor": "white",
           "zerolinewidth": 2
          }
         }
        },
        "title": {
         "text": "Total distance travelled by RPB with different methods"
        },
        "yaxis": {
         "title": {
          "text": "Total Distance"
         }
        }
       }
      }
     },
     "metadata": {}
    }
   ],
   "source": [
    "fig = go.Figure()\n",
    "fig.add_trace(go.Scatter(x=nbRefPointBots, y=progTotalPathLengthRPB,\n",
    "                    mode='markers',\n",
    "                    name='progressive method'))\n",
    "fig.add_trace(go.Scatter(x=nbRefPointBots, y=resetTotalPathLengthRPB,\n",
    "                    mode='markers',\n",
    "                    name='reset method'))\n",
    "                    \n",
    "fig.update_layout(\n",
    "    title=\"Total distance travelled by RPB with different methods\",\n",
    "    yaxis_title=\"Total Distance\",\n",
    "    legend_title=\"Methods\",\n",
    ")      \n",
    "fig.show()"
   ]
  },
  {
   "cell_type": "code",
   "execution_count": null,
   "metadata": {},
   "outputs": [],
   "source": []
  }
 ]
}